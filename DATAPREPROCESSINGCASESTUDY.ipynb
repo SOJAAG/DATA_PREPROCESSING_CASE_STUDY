{
 "cells": [
  {
   "cell_type": "code",
   "execution_count": 1,
   "id": "03a4aeca-4e3d-4a7a-a460-825d74e846e2",
   "metadata": {},
   "outputs": [],
   "source": [
    "import pandas as pd\n",
    "import seaborn as sns\n",
    "import matplotlib.pyplot as plt\n",
    "from sklearn.model_selection import train_test_split"
   ]
  },
  {
   "cell_type": "markdown",
   "id": "4cacf508-5c4d-4bce-837a-016c7b77d72a",
   "metadata": {},
   "source": [
    "### DATASET OVERVIEW"
   ]
  },
  {
   "cell_type": "code",
   "execution_count": 3,
   "id": "dd0306be-9085-403d-b660-757d355ef782",
   "metadata": {},
   "outputs": [],
   "source": [
    "data=pd.read_csv(\"C:\\\\Users\\\\sogex\\\\Downloads\\\\House_Pricing.csv\",index_col=False)"
   ]
  },
  {
   "cell_type": "code",
   "execution_count": 4,
   "id": "bd85ffda-d8a4-4515-87fa-4151880dc37c",
   "metadata": {},
   "outputs": [
    {
     "name": "stdout",
     "output_type": "stream",
     "text": [
      "<class 'pandas.core.frame.DataFrame'>\n",
      "RangeIndex: 21613 entries, 0 to 21612\n",
      "Data columns (total 21 columns):\n",
      " #   Column                                     Non-Null Count  Dtype  \n",
      "---  ------                                     --------------  -----  \n",
      " 0   ID                                         21613 non-null  int64  \n",
      " 1   Date House was Sold                        21613 non-null  object \n",
      " 2   Sale Price                                 21609 non-null  float64\n",
      " 3   No of Bedrooms                             21613 non-null  int64  \n",
      " 4   No of Bathrooms                            21609 non-null  float64\n",
      " 5   Flat Area (in Sqft)                        21604 non-null  float64\n",
      " 6   Lot Area (in Sqft)                         21604 non-null  float64\n",
      " 7   No of Floors                               21613 non-null  float64\n",
      " 8   Waterfront View                            21613 non-null  object \n",
      " 9   No of Times Visited                        2124 non-null   object \n",
      " 10  Condition of the House                     21613 non-null  object \n",
      " 11  Overall Grade                              21613 non-null  int64  \n",
      " 12  Area of the House from Basement (in Sqft)  21610 non-null  float64\n",
      " 13  Basement Area (in Sqft)                    21613 non-null  int64  \n",
      " 14  Age of House (in Years)                    21613 non-null  int64  \n",
      " 15  Renovated Year                             21613 non-null  int64  \n",
      " 16  Zipcode                                    21612 non-null  float64\n",
      " 17  Latitude                                   21612 non-null  float64\n",
      " 18  Longitude                                  21612 non-null  float64\n",
      " 19  Living Area after Renovation (in Sqft)     21612 non-null  float64\n",
      " 20  Lot Area after Renovation (in Sqft)        21613 non-null  int64  \n",
      "dtypes: float64(10), int64(7), object(4)\n",
      "memory usage: 3.5+ MB\n"
     ]
    }
   ],
   "source": [
    "data.info()"
   ]
  },
  {
   "cell_type": "code",
   "execution_count": 5,
   "id": "8a982c47-eab2-4325-b68f-ce03d3560b72",
   "metadata": {},
   "outputs": [
    {
     "data": {
      "text/html": [
       "<div>\n",
       "<style scoped>\n",
       "    .dataframe tbody tr th:only-of-type {\n",
       "        vertical-align: middle;\n",
       "    }\n",
       "\n",
       "    .dataframe tbody tr th {\n",
       "        vertical-align: top;\n",
       "    }\n",
       "\n",
       "    .dataframe thead th {\n",
       "        text-align: right;\n",
       "    }\n",
       "</style>\n",
       "<table border=\"1\" class=\"dataframe\">\n",
       "  <thead>\n",
       "    <tr style=\"text-align: right;\">\n",
       "      <th></th>\n",
       "      <th>ID</th>\n",
       "      <th>Sale Price</th>\n",
       "      <th>No of Bedrooms</th>\n",
       "      <th>No of Bathrooms</th>\n",
       "      <th>Flat Area (in Sqft)</th>\n",
       "      <th>Lot Area (in Sqft)</th>\n",
       "      <th>No of Floors</th>\n",
       "      <th>Overall Grade</th>\n",
       "      <th>Area of the House from Basement (in Sqft)</th>\n",
       "      <th>Basement Area (in Sqft)</th>\n",
       "      <th>Age of House (in Years)</th>\n",
       "      <th>Renovated Year</th>\n",
       "      <th>Zipcode</th>\n",
       "      <th>Latitude</th>\n",
       "      <th>Longitude</th>\n",
       "      <th>Living Area after Renovation (in Sqft)</th>\n",
       "      <th>Lot Area after Renovation (in Sqft)</th>\n",
       "    </tr>\n",
       "  </thead>\n",
       "  <tbody>\n",
       "    <tr>\n",
       "      <th>count</th>\n",
       "      <td>2.161300e+04</td>\n",
       "      <td>2.160900e+04</td>\n",
       "      <td>21613.000000</td>\n",
       "      <td>21609.000000</td>\n",
       "      <td>21604.000000</td>\n",
       "      <td>2.160400e+04</td>\n",
       "      <td>21613.000000</td>\n",
       "      <td>21613.000000</td>\n",
       "      <td>21610.000000</td>\n",
       "      <td>21613.000000</td>\n",
       "      <td>21613.000000</td>\n",
       "      <td>21613.000000</td>\n",
       "      <td>21612.000000</td>\n",
       "      <td>21612.000000</td>\n",
       "      <td>21612.000000</td>\n",
       "      <td>21612.000000</td>\n",
       "      <td>21613.000000</td>\n",
       "    </tr>\n",
       "    <tr>\n",
       "      <th>mean</th>\n",
       "      <td>4.580302e+09</td>\n",
       "      <td>5.401984e+05</td>\n",
       "      <td>3.370842</td>\n",
       "      <td>2.114732</td>\n",
       "      <td>2079.931772</td>\n",
       "      <td>1.510776e+04</td>\n",
       "      <td>1.494309</td>\n",
       "      <td>7.623467</td>\n",
       "      <td>1788.344193</td>\n",
       "      <td>291.509045</td>\n",
       "      <td>46.994864</td>\n",
       "      <td>84.402258</td>\n",
       "      <td>98077.937766</td>\n",
       "      <td>47.560048</td>\n",
       "      <td>-122.213892</td>\n",
       "      <td>1986.538914</td>\n",
       "      <td>12768.455652</td>\n",
       "    </tr>\n",
       "    <tr>\n",
       "      <th>std</th>\n",
       "      <td>2.876566e+09</td>\n",
       "      <td>3.673890e+05</td>\n",
       "      <td>0.930062</td>\n",
       "      <td>0.770138</td>\n",
       "      <td>918.487597</td>\n",
       "      <td>4.142827e+04</td>\n",
       "      <td>0.539989</td>\n",
       "      <td>1.105439</td>\n",
       "      <td>827.982604</td>\n",
       "      <td>442.575043</td>\n",
       "      <td>29.373411</td>\n",
       "      <td>401.679240</td>\n",
       "      <td>53.505425</td>\n",
       "      <td>0.138565</td>\n",
       "      <td>0.140830</td>\n",
       "      <td>685.404255</td>\n",
       "      <td>27304.179631</td>\n",
       "    </tr>\n",
       "    <tr>\n",
       "      <th>min</th>\n",
       "      <td>1.000102e+06</td>\n",
       "      <td>7.500000e+04</td>\n",
       "      <td>0.000000</td>\n",
       "      <td>0.000000</td>\n",
       "      <td>290.000000</td>\n",
       "      <td>5.200000e+02</td>\n",
       "      <td>1.000000</td>\n",
       "      <td>1.000000</td>\n",
       "      <td>290.000000</td>\n",
       "      <td>0.000000</td>\n",
       "      <td>3.000000</td>\n",
       "      <td>0.000000</td>\n",
       "      <td>98001.000000</td>\n",
       "      <td>47.155900</td>\n",
       "      <td>-122.519000</td>\n",
       "      <td>399.000000</td>\n",
       "      <td>651.000000</td>\n",
       "    </tr>\n",
       "    <tr>\n",
       "      <th>25%</th>\n",
       "      <td>2.123049e+09</td>\n",
       "      <td>3.219500e+05</td>\n",
       "      <td>3.000000</td>\n",
       "      <td>1.750000</td>\n",
       "      <td>1429.250000</td>\n",
       "      <td>5.040000e+03</td>\n",
       "      <td>1.000000</td>\n",
       "      <td>7.000000</td>\n",
       "      <td>1190.000000</td>\n",
       "      <td>0.000000</td>\n",
       "      <td>21.000000</td>\n",
       "      <td>0.000000</td>\n",
       "      <td>98033.000000</td>\n",
       "      <td>47.470975</td>\n",
       "      <td>-122.328000</td>\n",
       "      <td>1490.000000</td>\n",
       "      <td>5100.000000</td>\n",
       "    </tr>\n",
       "    <tr>\n",
       "      <th>50%</th>\n",
       "      <td>3.904930e+09</td>\n",
       "      <td>4.500000e+05</td>\n",
       "      <td>3.000000</td>\n",
       "      <td>2.250000</td>\n",
       "      <td>1910.000000</td>\n",
       "      <td>7.617500e+03</td>\n",
       "      <td>1.500000</td>\n",
       "      <td>7.000000</td>\n",
       "      <td>1560.000000</td>\n",
       "      <td>0.000000</td>\n",
       "      <td>43.000000</td>\n",
       "      <td>0.000000</td>\n",
       "      <td>98065.000000</td>\n",
       "      <td>47.571800</td>\n",
       "      <td>-122.230000</td>\n",
       "      <td>1840.000000</td>\n",
       "      <td>7620.000000</td>\n",
       "    </tr>\n",
       "    <tr>\n",
       "      <th>75%</th>\n",
       "      <td>7.308900e+09</td>\n",
       "      <td>6.450000e+05</td>\n",
       "      <td>4.000000</td>\n",
       "      <td>2.500000</td>\n",
       "      <td>2550.000000</td>\n",
       "      <td>1.068825e+04</td>\n",
       "      <td>2.000000</td>\n",
       "      <td>8.000000</td>\n",
       "      <td>2210.000000</td>\n",
       "      <td>560.000000</td>\n",
       "      <td>67.000000</td>\n",
       "      <td>0.000000</td>\n",
       "      <td>98118.000000</td>\n",
       "      <td>47.678000</td>\n",
       "      <td>-122.125000</td>\n",
       "      <td>2360.000000</td>\n",
       "      <td>10083.000000</td>\n",
       "    </tr>\n",
       "    <tr>\n",
       "      <th>max</th>\n",
       "      <td>9.900000e+09</td>\n",
       "      <td>7.700000e+06</td>\n",
       "      <td>33.000000</td>\n",
       "      <td>8.000000</td>\n",
       "      <td>13540.000000</td>\n",
       "      <td>1.651359e+06</td>\n",
       "      <td>3.500000</td>\n",
       "      <td>10.000000</td>\n",
       "      <td>9410.000000</td>\n",
       "      <td>4820.000000</td>\n",
       "      <td>118.000000</td>\n",
       "      <td>2015.000000</td>\n",
       "      <td>98199.000000</td>\n",
       "      <td>47.777600</td>\n",
       "      <td>-121.315000</td>\n",
       "      <td>6210.000000</td>\n",
       "      <td>871200.000000</td>\n",
       "    </tr>\n",
       "  </tbody>\n",
       "</table>\n",
       "</div>"
      ],
      "text/plain": [
       "                 ID    Sale Price  No of Bedrooms  No of Bathrooms  \\\n",
       "count  2.161300e+04  2.160900e+04    21613.000000     21609.000000   \n",
       "mean   4.580302e+09  5.401984e+05        3.370842         2.114732   \n",
       "std    2.876566e+09  3.673890e+05        0.930062         0.770138   \n",
       "min    1.000102e+06  7.500000e+04        0.000000         0.000000   \n",
       "25%    2.123049e+09  3.219500e+05        3.000000         1.750000   \n",
       "50%    3.904930e+09  4.500000e+05        3.000000         2.250000   \n",
       "75%    7.308900e+09  6.450000e+05        4.000000         2.500000   \n",
       "max    9.900000e+09  7.700000e+06       33.000000         8.000000   \n",
       "\n",
       "       Flat Area (in Sqft)  Lot Area (in Sqft)  No of Floors  Overall Grade  \\\n",
       "count         21604.000000        2.160400e+04  21613.000000   21613.000000   \n",
       "mean           2079.931772        1.510776e+04      1.494309       7.623467   \n",
       "std             918.487597        4.142827e+04      0.539989       1.105439   \n",
       "min             290.000000        5.200000e+02      1.000000       1.000000   \n",
       "25%            1429.250000        5.040000e+03      1.000000       7.000000   \n",
       "50%            1910.000000        7.617500e+03      1.500000       7.000000   \n",
       "75%            2550.000000        1.068825e+04      2.000000       8.000000   \n",
       "max           13540.000000        1.651359e+06      3.500000      10.000000   \n",
       "\n",
       "       Area of the House from Basement (in Sqft)  Basement Area (in Sqft)  \\\n",
       "count                               21610.000000             21613.000000   \n",
       "mean                                 1788.344193               291.509045   \n",
       "std                                   827.982604               442.575043   \n",
       "min                                   290.000000                 0.000000   \n",
       "25%                                  1190.000000                 0.000000   \n",
       "50%                                  1560.000000                 0.000000   \n",
       "75%                                  2210.000000               560.000000   \n",
       "max                                  9410.000000              4820.000000   \n",
       "\n",
       "       Age of House (in Years)  Renovated Year       Zipcode      Latitude  \\\n",
       "count             21613.000000    21613.000000  21612.000000  21612.000000   \n",
       "mean                 46.994864       84.402258  98077.937766     47.560048   \n",
       "std                  29.373411      401.679240     53.505425      0.138565   \n",
       "min                   3.000000        0.000000  98001.000000     47.155900   \n",
       "25%                  21.000000        0.000000  98033.000000     47.470975   \n",
       "50%                  43.000000        0.000000  98065.000000     47.571800   \n",
       "75%                  67.000000        0.000000  98118.000000     47.678000   \n",
       "max                 118.000000     2015.000000  98199.000000     47.777600   \n",
       "\n",
       "          Longitude  Living Area after Renovation (in Sqft)  \\\n",
       "count  21612.000000                            21612.000000   \n",
       "mean    -122.213892                             1986.538914   \n",
       "std        0.140830                              685.404255   \n",
       "min     -122.519000                              399.000000   \n",
       "25%     -122.328000                             1490.000000   \n",
       "50%     -122.230000                             1840.000000   \n",
       "75%     -122.125000                             2360.000000   \n",
       "max     -121.315000                             6210.000000   \n",
       "\n",
       "       Lot Area after Renovation (in Sqft)  \n",
       "count                         21613.000000  \n",
       "mean                          12768.455652  \n",
       "std                           27304.179631  \n",
       "min                             651.000000  \n",
       "25%                            5100.000000  \n",
       "50%                            7620.000000  \n",
       "75%                           10083.000000  \n",
       "max                          871200.000000  "
      ]
     },
     "execution_count": 5,
     "metadata": {},
     "output_type": "execute_result"
    }
   ],
   "source": [
    "data.describe()"
   ]
  },
  {
   "cell_type": "code",
   "execution_count": 6,
   "id": "fdcb7eb1-c984-4993-9a30-bbf36368fdb5",
   "metadata": {},
   "outputs": [
    {
     "data": {
      "text/plain": [
       "(21613, 21)"
      ]
     },
     "execution_count": 6,
     "metadata": {},
     "output_type": "execute_result"
    }
   ],
   "source": [
    "data.shape"
   ]
  },
  {
   "cell_type": "code",
   "execution_count": 7,
   "id": "3f64b3b3-2846-4eed-a52a-2d7cccd550c2",
   "metadata": {},
   "outputs": [
    {
     "data": {
      "text/html": [
       "<div>\n",
       "<style scoped>\n",
       "    .dataframe tbody tr th:only-of-type {\n",
       "        vertical-align: middle;\n",
       "    }\n",
       "\n",
       "    .dataframe tbody tr th {\n",
       "        vertical-align: top;\n",
       "    }\n",
       "\n",
       "    .dataframe thead th {\n",
       "        text-align: right;\n",
       "    }\n",
       "</style>\n",
       "<table border=\"1\" class=\"dataframe\">\n",
       "  <thead>\n",
       "    <tr style=\"text-align: right;\">\n",
       "      <th></th>\n",
       "      <th>ID</th>\n",
       "      <th>Date House was Sold</th>\n",
       "      <th>Sale Price</th>\n",
       "      <th>No of Bedrooms</th>\n",
       "      <th>No of Bathrooms</th>\n",
       "      <th>Flat Area (in Sqft)</th>\n",
       "      <th>Lot Area (in Sqft)</th>\n",
       "      <th>No of Floors</th>\n",
       "      <th>Waterfront View</th>\n",
       "      <th>No of Times Visited</th>\n",
       "      <th>...</th>\n",
       "      <th>Overall Grade</th>\n",
       "      <th>Area of the House from Basement (in Sqft)</th>\n",
       "      <th>Basement Area (in Sqft)</th>\n",
       "      <th>Age of House (in Years)</th>\n",
       "      <th>Renovated Year</th>\n",
       "      <th>Zipcode</th>\n",
       "      <th>Latitude</th>\n",
       "      <th>Longitude</th>\n",
       "      <th>Living Area after Renovation (in Sqft)</th>\n",
       "      <th>Lot Area after Renovation (in Sqft)</th>\n",
       "    </tr>\n",
       "  </thead>\n",
       "  <tbody>\n",
       "    <tr>\n",
       "      <th>0</th>\n",
       "      <td>7129300520</td>\n",
       "      <td>14 October 2017</td>\n",
       "      <td>221900.0</td>\n",
       "      <td>3</td>\n",
       "      <td>1.00</td>\n",
       "      <td>1180.0</td>\n",
       "      <td>5650.0</td>\n",
       "      <td>1.0</td>\n",
       "      <td>No</td>\n",
       "      <td>NaN</td>\n",
       "      <td>...</td>\n",
       "      <td>7</td>\n",
       "      <td>1180.0</td>\n",
       "      <td>0</td>\n",
       "      <td>63</td>\n",
       "      <td>0</td>\n",
       "      <td>98178.0</td>\n",
       "      <td>47.5112</td>\n",
       "      <td>-122.257</td>\n",
       "      <td>1340.0</td>\n",
       "      <td>5650</td>\n",
       "    </tr>\n",
       "    <tr>\n",
       "      <th>1</th>\n",
       "      <td>6414100192</td>\n",
       "      <td>14 December 2017</td>\n",
       "      <td>538000.0</td>\n",
       "      <td>3</td>\n",
       "      <td>2.25</td>\n",
       "      <td>2570.0</td>\n",
       "      <td>7242.0</td>\n",
       "      <td>2.0</td>\n",
       "      <td>No</td>\n",
       "      <td>NaN</td>\n",
       "      <td>...</td>\n",
       "      <td>7</td>\n",
       "      <td>2170.0</td>\n",
       "      <td>400</td>\n",
       "      <td>67</td>\n",
       "      <td>1991</td>\n",
       "      <td>98125.0</td>\n",
       "      <td>47.7210</td>\n",
       "      <td>-122.319</td>\n",
       "      <td>1690.0</td>\n",
       "      <td>7639</td>\n",
       "    </tr>\n",
       "    <tr>\n",
       "      <th>2</th>\n",
       "      <td>5631500400</td>\n",
       "      <td>15 February 2016</td>\n",
       "      <td>180000.0</td>\n",
       "      <td>2</td>\n",
       "      <td>1.00</td>\n",
       "      <td>770.0</td>\n",
       "      <td>10000.0</td>\n",
       "      <td>1.0</td>\n",
       "      <td>No</td>\n",
       "      <td>NaN</td>\n",
       "      <td>...</td>\n",
       "      <td>6</td>\n",
       "      <td>770.0</td>\n",
       "      <td>0</td>\n",
       "      <td>85</td>\n",
       "      <td>0</td>\n",
       "      <td>98028.0</td>\n",
       "      <td>47.7379</td>\n",
       "      <td>-122.233</td>\n",
       "      <td>2720.0</td>\n",
       "      <td>8062</td>\n",
       "    </tr>\n",
       "  </tbody>\n",
       "</table>\n",
       "<p>3 rows × 21 columns</p>\n",
       "</div>"
      ],
      "text/plain": [
       "           ID Date House was Sold  Sale Price  No of Bedrooms  \\\n",
       "0  7129300520     14 October 2017    221900.0               3   \n",
       "1  6414100192    14 December 2017    538000.0               3   \n",
       "2  5631500400    15 February 2016    180000.0               2   \n",
       "\n",
       "   No of Bathrooms  Flat Area (in Sqft)  Lot Area (in Sqft)  No of Floors  \\\n",
       "0             1.00               1180.0              5650.0           1.0   \n",
       "1             2.25               2570.0              7242.0           2.0   \n",
       "2             1.00                770.0             10000.0           1.0   \n",
       "\n",
       "  Waterfront View No of Times Visited  ... Overall Grade  \\\n",
       "0              No                 NaN  ...             7   \n",
       "1              No                 NaN  ...             7   \n",
       "2              No                 NaN  ...             6   \n",
       "\n",
       "   Area of the House from Basement (in Sqft)  Basement Area (in Sqft)  \\\n",
       "0                                     1180.0                        0   \n",
       "1                                     2170.0                      400   \n",
       "2                                      770.0                        0   \n",
       "\n",
       "   Age of House (in Years)  Renovated Year  Zipcode  Latitude  Longitude  \\\n",
       "0                       63               0  98178.0   47.5112   -122.257   \n",
       "1                       67            1991  98125.0   47.7210   -122.319   \n",
       "2                       85               0  98028.0   47.7379   -122.233   \n",
       "\n",
       "   Living Area after Renovation (in Sqft)  Lot Area after Renovation (in Sqft)  \n",
       "0                                  1340.0                                 5650  \n",
       "1                                  1690.0                                 7639  \n",
       "2                                  2720.0                                 8062  \n",
       "\n",
       "[3 rows x 21 columns]"
      ]
     },
     "execution_count": 7,
     "metadata": {},
     "output_type": "execute_result"
    }
   ],
   "source": [
    "data.head(3)"
   ]
  },
  {
   "cell_type": "markdown",
   "id": "48b03df5-199f-4538-a437-eb5f912d4a92",
   "metadata": {},
   "source": [
    "### DUPLICATE REMOVAL"
   ]
  },
  {
   "cell_type": "code",
   "execution_count": 9,
   "id": "6a4690b9-06b9-4d8a-b0ab-8c61b552c875",
   "metadata": {},
   "outputs": [
    {
     "data": {
      "text/plain": [
       "0"
      ]
     },
     "execution_count": 9,
     "metadata": {},
     "output_type": "execute_result"
    }
   ],
   "source": [
    "duplicated_rows=data.duplicated()\n",
    "duplicated_rows.sum()"
   ]
  },
  {
   "cell_type": "code",
   "execution_count": 10,
   "id": "f629416e-3699-4218-ada9-a9b70064db11",
   "metadata": {},
   "outputs": [],
   "source": [
    "data=data[~duplicated_rows]"
   ]
  },
  {
   "cell_type": "code",
   "execution_count": 11,
   "id": "4b83eb81-75f5-46f4-bd7c-a8404fa4b35f",
   "metadata": {},
   "outputs": [
    {
     "data": {
      "text/plain": [
       "(21613, 21)"
      ]
     },
     "execution_count": 11,
     "metadata": {},
     "output_type": "execute_result"
    }
   ],
   "source": [
    "data.shape"
   ]
  },
  {
   "cell_type": "markdown",
   "id": "65d6a736-fe24-48a4-9f4d-b655af226371",
   "metadata": {},
   "source": [
    "### HANDLING MISSING VALUES"
   ]
  },
  {
   "cell_type": "code",
   "execution_count": 13,
   "id": "1463fabe-9efa-47aa-9a00-2eee384574ac",
   "metadata": {},
   "outputs": [
    {
     "data": {
      "text/plain": [
       "ID                                               0\n",
       "Date House was Sold                              0\n",
       "Sale Price                                       4\n",
       "No of Bedrooms                                   0\n",
       "No of Bathrooms                                  4\n",
       "Flat Area (in Sqft)                              9\n",
       "Lot Area (in Sqft)                               9\n",
       "No of Floors                                     0\n",
       "Waterfront View                                  0\n",
       "No of Times Visited                          19489\n",
       "Condition of the House                           0\n",
       "Overall Grade                                    0\n",
       "Area of the House from Basement (in Sqft)        3\n",
       "Basement Area (in Sqft)                          0\n",
       "Age of House (in Years)                          0\n",
       "Renovated Year                                   0\n",
       "Zipcode                                          1\n",
       "Latitude                                         1\n",
       "Longitude                                        1\n",
       "Living Area after Renovation (in Sqft)           1\n",
       "Lot Area after Renovation (in Sqft)              0\n",
       "dtype: int64"
      ]
     },
     "execution_count": 13,
     "metadata": {},
     "output_type": "execute_result"
    }
   ],
   "source": [
    "data.isna().sum()"
   ]
  },
  {
   "cell_type": "code",
   "execution_count": 14,
   "id": "0273ce4f-15b8-4b56-9d66-c72ef57f3cf8",
   "metadata": {},
   "outputs": [],
   "source": [
    "num_df=data.select_dtypes(include=\"number\")\n",
    "cat_df=data.select_dtypes(include=\"object_\")"
   ]
  },
  {
   "cell_type": "code",
   "execution_count": 15,
   "id": "f132bf8c-7f5a-43aa-97de-feceb82dfe6f",
   "metadata": {},
   "outputs": [
    {
     "name": "stdout",
     "output_type": "stream",
     "text": [
      "numerical columns are:\n",
      "['ID', 'Sale Price', 'No of Bedrooms', 'No of Bathrooms', 'Flat Area (in Sqft)', 'Lot Area (in Sqft)', 'No of Floors', 'Overall Grade', 'Area of the House from Basement (in Sqft)', 'Basement Area (in Sqft)', 'Age of House (in Years)', 'Renovated Year', 'Zipcode', 'Latitude', 'Longitude', 'Living Area after Renovation (in Sqft)', 'Lot Area after Renovation (in Sqft)']\n"
     ]
    }
   ],
   "source": [
    "print(\"numerical columns are:\")\n",
    "num_cols=num_df.columns.tolist()\n",
    "print(num_cols)"
   ]
  },
  {
   "cell_type": "code",
   "execution_count": 16,
   "id": "f32e35b2-5138-47da-8af9-bfc5ddb64e7a",
   "metadata": {},
   "outputs": [
    {
     "name": "stdout",
     "output_type": "stream",
     "text": [
      "categorical columns are:\n",
      "['Date House was Sold', 'Waterfront View', 'No of Times Visited', 'Condition of the House']\n"
     ]
    }
   ],
   "source": [
    "print(\"categorical columns are:\")\n",
    "cat_cols=cat_df.columns.tolist()\n",
    "print(cat_cols)"
   ]
  },
  {
   "cell_type": "code",
   "execution_count": 17,
   "id": "84539392-5a75-453c-b706-247b7b3bf1be",
   "metadata": {},
   "outputs": [
    {
     "data": {
      "text/plain": [
       "ID                                           0\n",
       "Sale Price                                   4\n",
       "No of Bedrooms                               0\n",
       "No of Bathrooms                              4\n",
       "Flat Area (in Sqft)                          9\n",
       "Lot Area (in Sqft)                           9\n",
       "No of Floors                                 0\n",
       "Overall Grade                                0\n",
       "Area of the House from Basement (in Sqft)    3\n",
       "Basement Area (in Sqft)                      0\n",
       "Age of House (in Years)                      0\n",
       "Renovated Year                               0\n",
       "Zipcode                                      1\n",
       "Latitude                                     1\n",
       "Longitude                                    1\n",
       "Living Area after Renovation (in Sqft)       1\n",
       "Lot Area after Renovation (in Sqft)          0\n",
       "dtype: int64"
      ]
     },
     "execution_count": 17,
     "metadata": {},
     "output_type": "execute_result"
    }
   ],
   "source": [
    "num_df.isna().sum()"
   ]
  },
  {
   "cell_type": "code",
   "execution_count": 18,
   "id": "2527a08b-6c51-4326-87b2-d909a9c6ab9c",
   "metadata": {},
   "outputs": [],
   "source": [
    "num_df.dropna(subset=[\"Zipcode\", \"Latitude\",\"Longitude\",\"Living Area after Renovation (in Sqft)\"],inplace=True)"
   ]
  },
  {
   "cell_type": "code",
   "execution_count": 19,
   "id": "460830ff-48d1-4b07-8d92-774c66cc4e6d",
   "metadata": {},
   "outputs": [
    {
     "data": {
      "text/plain": [
       "ID                                           0\n",
       "Sale Price                                   4\n",
       "No of Bedrooms                               0\n",
       "No of Bathrooms                              4\n",
       "Flat Area (in Sqft)                          9\n",
       "Lot Area (in Sqft)                           9\n",
       "No of Floors                                 0\n",
       "Overall Grade                                0\n",
       "Area of the House from Basement (in Sqft)    3\n",
       "Basement Area (in Sqft)                      0\n",
       "Age of House (in Years)                      0\n",
       "Renovated Year                               0\n",
       "Zipcode                                      0\n",
       "Latitude                                     0\n",
       "Longitude                                    0\n",
       "Living Area after Renovation (in Sqft)       0\n",
       "Lot Area after Renovation (in Sqft)          0\n",
       "dtype: int64"
      ]
     },
     "execution_count": 19,
     "metadata": {},
     "output_type": "execute_result"
    }
   ],
   "source": [
    "num_df.isna().sum()"
   ]
  },
  {
   "cell_type": "code",
   "execution_count": 20,
   "id": "e8831dbf-5800-4345-8fe4-41981e90ac56",
   "metadata": {},
   "outputs": [
    {
     "data": {
      "image/png": "[encoded data removed]",
      "text/plain": [
       "<Figure size 640x480 with 1 Axes>"
      ]
     },
     "metadata": {},
     "output_type": "display_data"
    },
    {
     "data": {
      "image/png": "[encoded data removed]",
      "text/plain": [
       "<Figure size 640x480 with 1 Axes>"
      ]
     },
     "metadata": {},
     "output_type": "display_data"
    },
    {
     "data": {
      "image/png": "[encoded data removed]",
      "text/plain": [
       "<Figure size 640x480 with 1 Axes>"
      ]
     },
     "metadata": {},
     "output_type": "display_data"
    },
    {
     "data": {
      "image/png": "[encoded data removed]",
      "text/plain": [
       "<Figure size 640x480 with 1 Axes>"
      ]
     },
     "metadata": {},
     "output_type": "display_data"
    },
    {
     "data": {
      "image/png": "[encoded data removed]",
      "text/plain": [
       "<Figure size 640x480 with 1 Axes>"
      ]
     },
     "metadata": {},
     "output_type": "display_data"
    }
   ],
   "source": [
    "miss_col_list=[\"Sale Price\",\"No of Bathrooms\",\"Flat Area (in Sqft)\",\"Lot Area (in Sqft)\",\"Area of the House from Basement (in Sqft)\"]\n",
    "for col in miss_col_list:\n",
    "    plt.hist(num_df[col])\n",
    "    plt.title(\"Histogram of {} column\".format(col))\n",
    "    plt.xlabel(col)\n",
    "    plt.ylabel(\"count\")\n",
    "    plt.show()"
   ]
  },
  {
   "cell_type": "code",
   "execution_count": 21,
   "id": "d780e228-c5e6-415f-a0bf-d625113f7a96",
   "metadata": {},
   "outputs": [],
   "source": [
    "for col in miss_col_list:\n",
    "    num_df[col]=num_df[col].fillna(num_df[col].median())"
   ]
  },
  {
   "cell_type": "code",
   "execution_count": 22,
   "id": "9516f82f-f4fd-48bd-9dd3-732cbe6233e3",
   "metadata": {},
   "outputs": [
    {
     "data": {
      "text/plain": [
       "ID                                           0\n",
       "Sale Price                                   0\n",
       "No of Bedrooms                               0\n",
       "No of Bathrooms                              0\n",
       "Flat Area (in Sqft)                          0\n",
       "Lot Area (in Sqft)                           0\n",
       "No of Floors                                 0\n",
       "Overall Grade                                0\n",
       "Area of the House from Basement (in Sqft)    0\n",
       "Basement Area (in Sqft)                      0\n",
       "Age of House (in Years)                      0\n",
       "Renovated Year                               0\n",
       "Zipcode                                      0\n",
       "Latitude                                     0\n",
       "Longitude                                    0\n",
       "Living Area after Renovation (in Sqft)       0\n",
       "Lot Area after Renovation (in Sqft)          0\n",
       "dtype: int64"
      ]
     },
     "execution_count": 22,
     "metadata": {},
     "output_type": "execute_result"
    }
   ],
   "source": [
    "num_df.isna().sum()"
   ]
  },
  {
   "cell_type": "code",
   "execution_count": 23,
   "id": "3f008e0a-0bea-408f-9abd-ded035370508",
   "metadata": {},
   "outputs": [
    {
     "data": {
      "text/plain": [
       "Date House was Sold           0\n",
       "Waterfront View               0\n",
       "No of Times Visited       19489\n",
       "Condition of the House        0\n",
       "dtype: int64"
      ]
     },
     "execution_count": 23,
     "metadata": {},
     "output_type": "execute_result"
    }
   ],
   "source": [
    "cat_df.isna().sum()"
   ]
  },
  {
   "cell_type": "code",
   "execution_count": 24,
   "id": "aaa55ccf-6e5a-41a3-9811-5a2315a1d19e",
   "metadata": {},
   "outputs": [],
   "source": [
    "cat_df.drop(columns=[\"No of Times Visited\"], inplace=True)"
   ]
  },
  {
   "cell_type": "code",
   "execution_count": 25,
   "id": "69ee7e4c-c396-4cc5-948c-e39ddb17cfc2",
   "metadata": {},
   "outputs": [
    {
     "data": {
      "text/plain": [
       "Date House was Sold       0\n",
       "Waterfront View           0\n",
       "Condition of the House    0\n",
       "dtype: int64"
      ]
     },
     "execution_count": 25,
     "metadata": {},
     "output_type": "execute_result"
    }
   ],
   "source": [
    "cat_df.isna().sum()"
   ]
  },
  {
   "cell_type": "markdown",
   "id": "f6beeb65-03f5-4485-a336-ac6ba77a1a22",
   "metadata": {},
   "source": [
    "### SCALING NUMERICAL VARIABLES (excluding the target variable SalePrice)"
   ]
  },
  {
   "cell_type": "code",
   "execution_count": 27,
   "id": "1dc66082-633b-42a5-84aa-9a455a4b972f",
   "metadata": {},
   "outputs": [],
   "source": [
    "scale_num_df=['ID', 'No of Bedrooms', 'No of Bathrooms', 'Flat Area (in Sqft)', 'Lot Area (in Sqft)', \n",
    "              'No of Floors', 'Overall Grade', 'Area of the House from Basement (in Sqft)', 'Basement Area (in Sqft)', 'Age of House (in Years)', \n",
    "              'Renovated Year', 'Zipcode', 'Latitude', 'Longitude', 'Living Area after Renovation (in Sqft)', 'Lot Area after Renovation (in Sqft)']\n",
    "for col in scale_num_df:\n",
    "    num_df[col]=(num_df[col]-num_df[col].min())/(num_df[col].max()-num_df[col].min())\n",
    "\n"
   ]
  },
  {
   "cell_type": "markdown",
   "id": "5f50c13e-8722-4637-ae0a-a75c577fcd34",
   "metadata": {},
   "source": [
    "### ENCODING CATEGORICAL VARIABLES"
   ]
  },
  {
   "cell_type": "code",
   "execution_count": 29,
   "id": "6e4b327d-19d9-4cdf-bce7-e9decf905245",
   "metadata": {},
   "outputs": [
    {
     "data": {
      "text/plain": [
       "Waterfront View\n",
       "No     21450\n",
       "Yes      163\n",
       "Name: count, dtype: int64"
      ]
     },
     "execution_count": 29,
     "metadata": {},
     "output_type": "execute_result"
    }
   ],
   "source": [
    "cat_df['Waterfront View'].value_counts()"
   ]
  },
  {
   "cell_type": "code",
   "execution_count": 30,
   "id": "778bb04b-b682-4b56-84c8-1e6d3f48fdc3",
   "metadata": {},
   "outputs": [
    {
     "data": {
      "text/plain": [
       "Condition of the House\n",
       "Fair         14031\n",
       "Good          5679\n",
       "Excellent     1701\n",
       "Okay           172\n",
       "Bad             30\n",
       "Name: count, dtype: int64"
      ]
     },
     "execution_count": 30,
     "metadata": {},
     "output_type": "execute_result"
    }
   ],
   "source": [
    "cat_df['Condition of the House'].value_counts()"
   ]
  },
  {
   "cell_type": "code",
   "execution_count": 31,
   "id": "323360e6-12dd-4abd-a9a3-46435f2730b7",
   "metadata": {},
   "outputs": [],
   "source": [
    "cat_df['Waterfront View'] = cat_df['Waterfront View'].map({'Yes': 1, 'No': 0})"
   ]
  },
  {
   "cell_type": "code",
   "execution_count": 32,
   "id": "74c48162-82fb-483d-a35d-07920e877248",
   "metadata": {},
   "outputs": [],
   "source": [
    "condition_map = {\n",
    "    'Fair': 1,\n",
    "    'Good': 2,\n",
    "    'Excellent': 3,\n",
    "    'Okay': 4,\n",
    "    'Bad': 5\n",
    "}\n",
    "cat_df['Condition of the House'] = cat_df['Condition of the House'].map(condition_map)"
   ]
  },
  {
   "cell_type": "code",
   "execution_count": 33,
   "id": "47903a10-e12d-45a1-9643-ce8349feba03",
   "metadata": {},
   "outputs": [],
   "source": [
    "import numpy as np\n",
    "\n",
    "cat_df['Date House was Sold'] = pd.to_datetime(cat_df['Date House was Sold'], format='%d %B %Y')\n",
    "\n",
    "cat_df['Year_Sold'] = cat_df['Date House was Sold'].dt.year\n",
    "cat_df['Month_Sold'] = cat_df['Date House was Sold'].dt.month\n",
    "cat_df['Day_Sold'] = cat_df['Date House was Sold'].dt.day\n",
    "cat_df['Day_of_Week'] = cat_df['Date House was Sold'].dt.dayofweek\n",
    "cat_df['Quarter_Sold'] = cat_df['Date House was Sold'].dt.quarter\n",
    "\n",
    "cat_df.drop('Date House was Sold', axis=1, inplace=True)"
   ]
  },
  {
   "cell_type": "code",
   "execution_count": 34,
   "id": "13bc0665-65d9-4603-91d2-de6a702287e3",
   "metadata": {},
   "outputs": [
    {
     "data": {
      "text/html": [
       "<div>\n",
       "<style scoped>\n",
       "    .dataframe tbody tr th:only-of-type {\n",
       "        vertical-align: middle;\n",
       "    }\n",
       "\n",
       "    .dataframe tbody tr th {\n",
       "        vertical-align: top;\n",
       "    }\n",
       "\n",
       "    .dataframe thead th {\n",
       "        text-align: right;\n",
       "    }\n",
       "</style>\n",
       "<table border=\"1\" class=\"dataframe\">\n",
       "  <thead>\n",
       "    <tr style=\"text-align: right;\">\n",
       "      <th></th>\n",
       "      <th>Waterfront View</th>\n",
       "      <th>Condition of the House</th>\n",
       "      <th>Year_Sold</th>\n",
       "      <th>Month_Sold</th>\n",
       "      <th>Day_Sold</th>\n",
       "      <th>Day_of_Week</th>\n",
       "      <th>Quarter_Sold</th>\n",
       "    </tr>\n",
       "  </thead>\n",
       "  <tbody>\n",
       "    <tr>\n",
       "      <th>0</th>\n",
       "      <td>0</td>\n",
       "      <td>1</td>\n",
       "      <td>2017</td>\n",
       "      <td>10</td>\n",
       "      <td>14</td>\n",
       "      <td>5</td>\n",
       "      <td>4</td>\n",
       "    </tr>\n",
       "    <tr>\n",
       "      <th>1</th>\n",
       "      <td>0</td>\n",
       "      <td>1</td>\n",
       "      <td>2017</td>\n",
       "      <td>12</td>\n",
       "      <td>14</td>\n",
       "      <td>3</td>\n",
       "      <td>4</td>\n",
       "    </tr>\n",
       "    <tr>\n",
       "      <th>2</th>\n",
       "      <td>0</td>\n",
       "      <td>1</td>\n",
       "      <td>2016</td>\n",
       "      <td>2</td>\n",
       "      <td>15</td>\n",
       "      <td>0</td>\n",
       "      <td>1</td>\n",
       "    </tr>\n",
       "    <tr>\n",
       "      <th>3</th>\n",
       "      <td>0</td>\n",
       "      <td>3</td>\n",
       "      <td>2017</td>\n",
       "      <td>12</td>\n",
       "      <td>14</td>\n",
       "      <td>3</td>\n",
       "      <td>4</td>\n",
       "    </tr>\n",
       "    <tr>\n",
       "      <th>4</th>\n",
       "      <td>0</td>\n",
       "      <td>1</td>\n",
       "      <td>2016</td>\n",
       "      <td>2</td>\n",
       "      <td>15</td>\n",
       "      <td>0</td>\n",
       "      <td>1</td>\n",
       "    </tr>\n",
       "    <tr>\n",
       "      <th>...</th>\n",
       "      <td>...</td>\n",
       "      <td>...</td>\n",
       "      <td>...</td>\n",
       "      <td>...</td>\n",
       "      <td>...</td>\n",
       "      <td>...</td>\n",
       "      <td>...</td>\n",
       "    </tr>\n",
       "    <tr>\n",
       "      <th>21608</th>\n",
       "      <td>0</td>\n",
       "      <td>1</td>\n",
       "      <td>2017</td>\n",
       "      <td>5</td>\n",
       "      <td>14</td>\n",
       "      <td>6</td>\n",
       "      <td>2</td>\n",
       "    </tr>\n",
       "    <tr>\n",
       "      <th>21609</th>\n",
       "      <td>0</td>\n",
       "      <td>1</td>\n",
       "      <td>2016</td>\n",
       "      <td>2</td>\n",
       "      <td>15</td>\n",
       "      <td>0</td>\n",
       "      <td>1</td>\n",
       "    </tr>\n",
       "    <tr>\n",
       "      <th>21610</th>\n",
       "      <td>0</td>\n",
       "      <td>1</td>\n",
       "      <td>2017</td>\n",
       "      <td>6</td>\n",
       "      <td>14</td>\n",
       "      <td>2</td>\n",
       "      <td>2</td>\n",
       "    </tr>\n",
       "    <tr>\n",
       "      <th>21611</th>\n",
       "      <td>0</td>\n",
       "      <td>1</td>\n",
       "      <td>2016</td>\n",
       "      <td>1</td>\n",
       "      <td>15</td>\n",
       "      <td>4</td>\n",
       "      <td>1</td>\n",
       "    </tr>\n",
       "    <tr>\n",
       "      <th>21612</th>\n",
       "      <td>0</td>\n",
       "      <td>1</td>\n",
       "      <td>2017</td>\n",
       "      <td>10</td>\n",
       "      <td>14</td>\n",
       "      <td>5</td>\n",
       "      <td>4</td>\n",
       "    </tr>\n",
       "  </tbody>\n",
       "</table>\n",
       "<p>21613 rows × 7 columns</p>\n",
       "</div>"
      ],
      "text/plain": [
       "       Waterfront View  Condition of the House  Year_Sold  Month_Sold  \\\n",
       "0                    0                       1       2017          10   \n",
       "1                    0                       1       2017          12   \n",
       "2                    0                       1       2016           2   \n",
       "3                    0                       3       2017          12   \n",
       "4                    0                       1       2016           2   \n",
       "...                ...                     ...        ...         ...   \n",
       "21608                0                       1       2017           5   \n",
       "21609                0                       1       2016           2   \n",
       "21610                0                       1       2017           6   \n",
       "21611                0                       1       2016           1   \n",
       "21612                0                       1       2017          10   \n",
       "\n",
       "       Day_Sold  Day_of_Week  Quarter_Sold  \n",
       "0            14            5             4  \n",
       "1            14            3             4  \n",
       "2            15            0             1  \n",
       "3            14            3             4  \n",
       "4            15            0             1  \n",
       "...         ...          ...           ...  \n",
       "21608        14            6             2  \n",
       "21609        15            0             1  \n",
       "21610        14            2             2  \n",
       "21611        15            4             1  \n",
       "21612        14            5             4  \n",
       "\n",
       "[21613 rows x 7 columns]"
      ]
     },
     "execution_count": 34,
     "metadata": {},
     "output_type": "execute_result"
    }
   ],
   "source": [
    "cat_df"
   ]
  },
  {
   "cell_type": "markdown",
   "id": "f79e9f68-9f01-4553-a59e-cc52f515069f",
   "metadata": {},
   "source": [
    "### OUTLIER REMOVAL"
   ]
  },
  {
   "cell_type": "code",
   "execution_count": 36,
   "id": "3e5e51cf-5664-4cbe-a65a-ac03c0dc6a83",
   "metadata": {},
   "outputs": [
    {
     "data": {
      "image/png": "[encoded data removed]",
      "text/plain": [
       "<Figure size 640x480 with 1 Axes>"
      ]
     },
     "metadata": {},
     "output_type": "display_data"
    }
   ],
   "source": [
    "plt.boxplot(num_df)\n",
    "plt.show()"
   ]
  },
  {
   "cell_type": "code",
   "execution_count": 37,
   "id": "0ccf5cc3-51c0-4e20-a3c8-6da8cdec4e7d",
   "metadata": {},
   "outputs": [],
   "source": [
    "def remove_outliers(df,column_name):\n",
    "    q1=df[column_name].quantile(0.25)\n",
    "    q3=df[column_name].quantile(0.75)\n",
    "    iqr=q3-q1\n",
    "    upper_bound = q3 + 1.5*iqr\n",
    "    lower_bound = q1 - 1.5*iqr\n",
    "    df[column_name]=df[column_name].clip(upper=upper_bound)\n",
    "    df[column_name]=df[column_name].clip(lower=lower_bound)\n",
    "    return df[column_name]\n",
    "\n",
    "for col in num_cols:\n",
    "    num_df[col]=remove_outliers(num_df,col)"
   ]
  },
  {
   "cell_type": "code",
   "execution_count": 38,
   "id": "cd5c40d7-5e1d-4e4e-86b9-fab8a189a3ab",
   "metadata": {},
   "outputs": [
    {
     "data": {
      "image/png": "[encoded data removed]",
      "text/plain": [
       "<Figure size 640x480 with 1 Axes>"
      ]
     },
     "metadata": {},
     "output_type": "display_data"
    }
   ],
   "source": [
    "plt.boxplot(num_df)\n",
    "plt.show()"
   ]
  },
  {
   "cell_type": "code",
   "execution_count": 39,
   "id": "419d2181-b69a-4fc8-bec7-13f13ac4339f",
   "metadata": {},
   "outputs": [
    {
     "data": {
      "text/plain": [
       "ID                                           0\n",
       "Sale Price                                   0\n",
       "No of Bedrooms                               0\n",
       "No of Bathrooms                              0\n",
       "Flat Area (in Sqft)                          0\n",
       "Lot Area (in Sqft)                           0\n",
       "No of Floors                                 0\n",
       "Overall Grade                                0\n",
       "Area of the House from Basement (in Sqft)    0\n",
       "Basement Area (in Sqft)                      0\n",
       "Age of House (in Years)                      0\n",
       "Renovated Year                               0\n",
       "Zipcode                                      0\n",
       "Latitude                                     0\n",
       "Longitude                                    0\n",
       "Living Area after Renovation (in Sqft)       0\n",
       "Lot Area after Renovation (in Sqft)          0\n",
       "dtype: int64"
      ]
     },
     "execution_count": 39,
     "metadata": {},
     "output_type": "execute_result"
    }
   ],
   "source": [
    "num_df.isna().sum()"
   ]
  },
  {
   "cell_type": "code",
   "execution_count": 40,
   "id": "e2283ee6-98bb-4d9e-83bc-e2749326e256",
   "metadata": {},
   "outputs": [
    {
     "data": {
      "text/plain": [
       "Waterfront View           0\n",
       "Condition of the House    0\n",
       "Year_Sold                 0\n",
       "Month_Sold                0\n",
       "Day_Sold                  0\n",
       "Day_of_Week               0\n",
       "Quarter_Sold              0\n",
       "dtype: int64"
      ]
     },
     "execution_count": 40,
     "metadata": {},
     "output_type": "execute_result"
    }
   ],
   "source": [
    "cat_df.isna().sum()"
   ]
  },
  {
   "cell_type": "code",
   "execution_count": 75,
   "id": "f52d2d06-6741-44d8-9644-304d012953be",
   "metadata": {},
   "outputs": [],
   "source": [
    "data=pd.concat([num_df,cat_df],axis=1)"
   ]
  },
  {
   "cell_type": "markdown",
   "id": "ea0dc214-479a-4ce3-86c2-550edac6e6b0",
   "metadata": {},
   "source": [
    "### TRAIN TEST SPLIT"
   ]
  },
  {
   "cell_type": "code",
   "execution_count": 78,
   "id": "581f5e6f-6ea7-4f0e-8a96-2759feedff83",
   "metadata": {},
   "outputs": [],
   "source": [
    "y=data[\"Sale Price\"]\n",
    "X=data.drop(\"Sale Price\",axis=1)"
   ]
  },
  {
   "cell_type": "code",
   "execution_count": 80,
   "id": "135edd9d-942e-44be-afa3-6d092e4d56e9",
   "metadata": {},
   "outputs": [
    {
     "data": {
      "text/html": [
       "<div>\n",
       "<style scoped>\n",
       "    .dataframe tbody tr th:only-of-type {\n",
       "        vertical-align: middle;\n",
       "    }\n",
       "\n",
       "    .dataframe tbody tr th {\n",
       "        vertical-align: top;\n",
       "    }\n",
       "\n",
       "    .dataframe thead th {\n",
       "        text-align: right;\n",
       "    }\n",
       "</style>\n",
       "<table border=\"1\" class=\"dataframe\">\n",
       "  <thead>\n",
       "    <tr style=\"text-align: right;\">\n",
       "      <th></th>\n",
       "      <th>ID</th>\n",
       "      <th>No of Bedrooms</th>\n",
       "      <th>No of Bathrooms</th>\n",
       "      <th>Flat Area (in Sqft)</th>\n",
       "      <th>Lot Area (in Sqft)</th>\n",
       "      <th>No of Floors</th>\n",
       "      <th>Overall Grade</th>\n",
       "      <th>Area of the House from Basement (in Sqft)</th>\n",
       "      <th>Basement Area (in Sqft)</th>\n",
       "      <th>Age of House (in Years)</th>\n",
       "      <th>...</th>\n",
       "      <th>Longitude</th>\n",
       "      <th>Living Area after Renovation (in Sqft)</th>\n",
       "      <th>Lot Area after Renovation (in Sqft)</th>\n",
       "      <th>Waterfront View</th>\n",
       "      <th>Condition of the House</th>\n",
       "      <th>Year_Sold</th>\n",
       "      <th>Month_Sold</th>\n",
       "      <th>Day_Sold</th>\n",
       "      <th>Day_of_Week</th>\n",
       "      <th>Quarter_Sold</th>\n",
       "    </tr>\n",
       "  </thead>\n",
       "  <tbody>\n",
       "    <tr>\n",
       "      <th>6329</th>\n",
       "      <td>0.261420</td>\n",
       "      <td>0.090909</td>\n",
       "      <td>0.18750</td>\n",
       "      <td>0.075472</td>\n",
       "      <td>0.004753</td>\n",
       "      <td>0.0</td>\n",
       "      <td>0.666667</td>\n",
       "      <td>0.080044</td>\n",
       "      <td>0.056017</td>\n",
       "      <td>0.504348</td>\n",
       "      <td>...</td>\n",
       "      <td>0.166944</td>\n",
       "      <td>0.235932</td>\n",
       "      <td>0.008901</td>\n",
       "      <td>0</td>\n",
       "      <td>1</td>\n",
       "      <td>2017</td>\n",
       "      <td>10</td>\n",
       "      <td>14</td>\n",
       "      <td>5</td>\n",
       "      <td>4</td>\n",
       "    </tr>\n",
       "    <tr>\n",
       "      <th>13477</th>\n",
       "      <td>0.082942</td>\n",
       "      <td>0.060606</td>\n",
       "      <td>0.25000</td>\n",
       "      <td>0.150189</td>\n",
       "      <td>0.011290</td>\n",
       "      <td>0.4</td>\n",
       "      <td>0.888889</td>\n",
       "      <td>0.218202</td>\n",
       "      <td>0.000000</td>\n",
       "      <td>0.217391</td>\n",
       "      <td>...</td>\n",
       "      <td>0.053156</td>\n",
       "      <td>0.280675</td>\n",
       "      <td>0.019423</td>\n",
       "      <td>0</td>\n",
       "      <td>1</td>\n",
       "      <td>2017</td>\n",
       "      <td>6</td>\n",
       "      <td>14</td>\n",
       "      <td>2</td>\n",
       "      <td>2</td>\n",
       "    </tr>\n",
       "    <tr>\n",
       "      <th>17618</th>\n",
       "      <td>0.391485</td>\n",
       "      <td>0.090909</td>\n",
       "      <td>0.28125</td>\n",
       "      <td>0.111698</td>\n",
       "      <td>0.004531</td>\n",
       "      <td>0.0</td>\n",
       "      <td>0.666667</td>\n",
       "      <td>0.116228</td>\n",
       "      <td>0.087137</td>\n",
       "      <td>0.339130</td>\n",
       "      <td>...</td>\n",
       "      <td>0.289867</td>\n",
       "      <td>0.249699</td>\n",
       "      <td>0.008298</td>\n",
       "      <td>0</td>\n",
       "      <td>2</td>\n",
       "      <td>2017</td>\n",
       "      <td>12</td>\n",
       "      <td>14</td>\n",
       "      <td>3</td>\n",
       "      <td>4</td>\n",
       "    </tr>\n",
       "    <tr>\n",
       "      <th>16974</th>\n",
       "      <td>0.153809</td>\n",
       "      <td>0.090909</td>\n",
       "      <td>0.31250</td>\n",
       "      <td>0.132075</td>\n",
       "      <td>0.002488</td>\n",
       "      <td>0.4</td>\n",
       "      <td>0.777778</td>\n",
       "      <td>0.191886</td>\n",
       "      <td>0.000000</td>\n",
       "      <td>0.200000</td>\n",
       "      <td>...</td>\n",
       "      <td>0.341362</td>\n",
       "      <td>0.315092</td>\n",
       "      <td>0.004421</td>\n",
       "      <td>0</td>\n",
       "      <td>1</td>\n",
       "      <td>2017</td>\n",
       "      <td>6</td>\n",
       "      <td>14</td>\n",
       "      <td>2</td>\n",
       "      <td>2</td>\n",
       "    </tr>\n",
       "    <tr>\n",
       "      <th>20872</th>\n",
       "      <td>0.793240</td>\n",
       "      <td>0.121212</td>\n",
       "      <td>0.43750</td>\n",
       "      <td>0.297358</td>\n",
       "      <td>0.003201</td>\n",
       "      <td>0.4</td>\n",
       "      <td>0.888889</td>\n",
       "      <td>0.339912</td>\n",
       "      <td>0.228216</td>\n",
       "      <td>0.078261</td>\n",
       "      <td>...</td>\n",
       "      <td>0.547342</td>\n",
       "      <td>0.562038</td>\n",
       "      <td>0.006488</td>\n",
       "      <td>0</td>\n",
       "      <td>1</td>\n",
       "      <td>2017</td>\n",
       "      <td>12</td>\n",
       "      <td>14</td>\n",
       "      <td>3</td>\n",
       "      <td>4</td>\n",
       "    </tr>\n",
       "    <tr>\n",
       "      <th>...</th>\n",
       "      <td>...</td>\n",
       "      <td>...</td>\n",
       "      <td>...</td>\n",
       "      <td>...</td>\n",
       "      <td>...</td>\n",
       "      <td>...</td>\n",
       "      <td>...</td>\n",
       "      <td>...</td>\n",
       "      <td>...</td>\n",
       "      <td>...</td>\n",
       "      <td>...</td>\n",
       "      <td>...</td>\n",
       "      <td>...</td>\n",
       "      <td>...</td>\n",
       "      <td>...</td>\n",
       "      <td>...</td>\n",
       "      <td>...</td>\n",
       "      <td>...</td>\n",
       "      <td>...</td>\n",
       "      <td>...</td>\n",
       "      <td>...</td>\n",
       "    </tr>\n",
       "    <tr>\n",
       "      <th>11968</th>\n",
       "      <td>0.954066</td>\n",
       "      <td>0.121212</td>\n",
       "      <td>0.31250</td>\n",
       "      <td>0.131321</td>\n",
       "      <td>0.002050</td>\n",
       "      <td>0.2</td>\n",
       "      <td>0.666667</td>\n",
       "      <td>0.146930</td>\n",
       "      <td>0.082988</td>\n",
       "      <td>0.773913</td>\n",
       "      <td>...</td>\n",
       "      <td>0.148671</td>\n",
       "      <td>0.275512</td>\n",
       "      <td>0.003738</td>\n",
       "      <td>0</td>\n",
       "      <td>2</td>\n",
       "      <td>2017</td>\n",
       "      <td>6</td>\n",
       "      <td>14</td>\n",
       "      <td>2</td>\n",
       "      <td>2</td>\n",
       "    </tr>\n",
       "    <tr>\n",
       "      <th>21579</th>\n",
       "      <td>0.708173</td>\n",
       "      <td>0.090909</td>\n",
       "      <td>0.40625</td>\n",
       "      <td>0.108679</td>\n",
       "      <td>0.000429</td>\n",
       "      <td>0.4</td>\n",
       "      <td>0.888889</td>\n",
       "      <td>0.112939</td>\n",
       "      <td>0.085062</td>\n",
       "      <td>0.060870</td>\n",
       "      <td>...</td>\n",
       "      <td>0.124585</td>\n",
       "      <td>0.225607</td>\n",
       "      <td>0.001189</td>\n",
       "      <td>0</td>\n",
       "      <td>1</td>\n",
       "      <td>2017</td>\n",
       "      <td>5</td>\n",
       "      <td>14</td>\n",
       "      <td>6</td>\n",
       "      <td>2</td>\n",
       "    </tr>\n",
       "    <tr>\n",
       "      <th>5394</th>\n",
       "      <td>0.032434</td>\n",
       "      <td>0.060606</td>\n",
       "      <td>0.28125</td>\n",
       "      <td>0.122264</td>\n",
       "      <td>0.011290</td>\n",
       "      <td>0.0</td>\n",
       "      <td>0.666667</td>\n",
       "      <td>0.078947</td>\n",
       "      <td>0.186722</td>\n",
       "      <td>0.373913</td>\n",
       "      <td>...</td>\n",
       "      <td>0.411960</td>\n",
       "      <td>0.284116</td>\n",
       "      <td>0.019423</td>\n",
       "      <td>0</td>\n",
       "      <td>2</td>\n",
       "      <td>2016</td>\n",
       "      <td>5</td>\n",
       "      <td>15</td>\n",
       "      <td>6</td>\n",
       "      <td>2</td>\n",
       "    </tr>\n",
       "    <tr>\n",
       "      <th>864</th>\n",
       "      <td>0.417825</td>\n",
       "      <td>0.121212</td>\n",
       "      <td>0.31250</td>\n",
       "      <td>0.132830</td>\n",
       "      <td>0.004177</td>\n",
       "      <td>0.4</td>\n",
       "      <td>0.777778</td>\n",
       "      <td>0.192982</td>\n",
       "      <td>0.000000</td>\n",
       "      <td>0.217391</td>\n",
       "      <td>...</td>\n",
       "      <td>0.249169</td>\n",
       "      <td>0.284116</td>\n",
       "      <td>0.008350</td>\n",
       "      <td>0</td>\n",
       "      <td>1</td>\n",
       "      <td>2017</td>\n",
       "      <td>11</td>\n",
       "      <td>14</td>\n",
       "      <td>1</td>\n",
       "      <td>4</td>\n",
       "    </tr>\n",
       "    <tr>\n",
       "      <th>15799</th>\n",
       "      <td>0.285187</td>\n",
       "      <td>0.121212</td>\n",
       "      <td>0.21875</td>\n",
       "      <td>0.113962</td>\n",
       "      <td>0.006282</td>\n",
       "      <td>0.2</td>\n",
       "      <td>0.555556</td>\n",
       "      <td>0.165570</td>\n",
       "      <td>0.000000</td>\n",
       "      <td>0.895652</td>\n",
       "      <td>...</td>\n",
       "      <td>0.397841</td>\n",
       "      <td>0.194631</td>\n",
       "      <td>0.010530</td>\n",
       "      <td>0</td>\n",
       "      <td>2</td>\n",
       "      <td>2017</td>\n",
       "      <td>8</td>\n",
       "      <td>14</td>\n",
       "      <td>0</td>\n",
       "      <td>3</td>\n",
       "    </tr>\n",
       "  </tbody>\n",
       "</table>\n",
       "<p>17290 rows × 23 columns</p>\n",
       "</div>"
      ],
      "text/plain": [
       "             ID  No of Bedrooms  No of Bathrooms  Flat Area (in Sqft)  \\\n",
       "6329   0.261420        0.090909          0.18750             0.075472   \n",
       "13477  0.082942        0.060606          0.25000             0.150189   \n",
       "17618  0.391485        0.090909          0.28125             0.111698   \n",
       "16974  0.153809        0.090909          0.31250             0.132075   \n",
       "20872  0.793240        0.121212          0.43750             0.297358   \n",
       "...         ...             ...              ...                  ...   \n",
       "11968  0.954066        0.121212          0.31250             0.131321   \n",
       "21579  0.708173        0.090909          0.40625             0.108679   \n",
       "5394   0.032434        0.060606          0.28125             0.122264   \n",
       "864    0.417825        0.121212          0.31250             0.132830   \n",
       "15799  0.285187        0.121212          0.21875             0.113962   \n",
       "\n",
       "       Lot Area (in Sqft)  No of Floors  Overall Grade  \\\n",
       "6329             0.004753           0.0       0.666667   \n",
       "13477            0.011290           0.4       0.888889   \n",
       "17618            0.004531           0.0       0.666667   \n",
       "16974            0.002488           0.4       0.777778   \n",
       "20872            0.003201           0.4       0.888889   \n",
       "...                   ...           ...            ...   \n",
       "11968            0.002050           0.2       0.666667   \n",
       "21579            0.000429           0.4       0.888889   \n",
       "5394             0.011290           0.0       0.666667   \n",
       "864              0.004177           0.4       0.777778   \n",
       "15799            0.006282           0.2       0.555556   \n",
       "\n",
       "       Area of the House from Basement (in Sqft)  Basement Area (in Sqft)  \\\n",
       "6329                                    0.080044                 0.056017   \n",
       "13477                                   0.218202                 0.000000   \n",
       "17618                                   0.116228                 0.087137   \n",
       "16974                                   0.191886                 0.000000   \n",
       "20872                                   0.339912                 0.228216   \n",
       "...                                          ...                      ...   \n",
       "11968                                   0.146930                 0.082988   \n",
       "21579                                   0.112939                 0.085062   \n",
       "5394                                    0.078947                 0.186722   \n",
       "864                                     0.192982                 0.000000   \n",
       "15799                                   0.165570                 0.000000   \n",
       "\n",
       "       Age of House (in Years)  ...  Longitude  \\\n",
       "6329                  0.504348  ...   0.166944   \n",
       "13477                 0.217391  ...   0.053156   \n",
       "17618                 0.339130  ...   0.289867   \n",
       "16974                 0.200000  ...   0.341362   \n",
       "20872                 0.078261  ...   0.547342   \n",
       "...                        ...  ...        ...   \n",
       "11968                 0.773913  ...   0.148671   \n",
       "21579                 0.060870  ...   0.124585   \n",
       "5394                  0.373913  ...   0.411960   \n",
       "864                   0.217391  ...   0.249169   \n",
       "15799                 0.895652  ...   0.397841   \n",
       "\n",
       "       Living Area after Renovation (in Sqft)  \\\n",
       "6329                                 0.235932   \n",
       "13477                                0.280675   \n",
       "17618                                0.249699   \n",
       "16974                                0.315092   \n",
       "20872                                0.562038   \n",
       "...                                       ...   \n",
       "11968                                0.275512   \n",
       "21579                                0.225607   \n",
       "5394                                 0.284116   \n",
       "864                                  0.284116   \n",
       "15799                                0.194631   \n",
       "\n",
       "       Lot Area after Renovation (in Sqft)  Waterfront View  \\\n",
       "6329                              0.008901                0   \n",
       "13477                             0.019423                0   \n",
       "17618                             0.008298                0   \n",
       "16974                             0.004421                0   \n",
       "20872                             0.006488                0   \n",
       "...                                    ...              ...   \n",
       "11968                             0.003738                0   \n",
       "21579                             0.001189                0   \n",
       "5394                              0.019423                0   \n",
       "864                               0.008350                0   \n",
       "15799                             0.010530                0   \n",
       "\n",
       "       Condition of the House  Year_Sold  Month_Sold  Day_Sold  Day_of_Week  \\\n",
       "6329                        1       2017          10        14            5   \n",
       "13477                       1       2017           6        14            2   \n",
       "17618                       2       2017          12        14            3   \n",
       "16974                       1       2017           6        14            2   \n",
       "20872                       1       2017          12        14            3   \n",
       "...                       ...        ...         ...       ...          ...   \n",
       "11968                       2       2017           6        14            2   \n",
       "21579                       1       2017           5        14            6   \n",
       "5394                        2       2016           5        15            6   \n",
       "864                         1       2017          11        14            1   \n",
       "15799                       2       2017           8        14            0   \n",
       "\n",
       "       Quarter_Sold  \n",
       "6329              4  \n",
       "13477             2  \n",
       "17618             4  \n",
       "16974             2  \n",
       "20872             4  \n",
       "...             ...  \n",
       "11968             2  \n",
       "21579             2  \n",
       "5394              2  \n",
       "864               4  \n",
       "15799             3  \n",
       "\n",
       "[17290 rows x 23 columns]"
      ]
     },
     "execution_count": 80,
     "metadata": {},
     "output_type": "execute_result"
    }
   ],
   "source": [
    "X_train, X_test, y_train, y_test = train_test_split(X,y,test_size=0.2, random_state=42)\n",
    "X_train"
   ]
  },
  {
   "cell_type": "code",
   "execution_count": null,
   "id": "3a96cc59-1267-409d-823e-bc1cf2f1a9be",
   "metadata": {},
   "outputs": [],
   "source": []
  }
 ],
 "metadata": {
  "kernelspec": {
   "display_name": "Python 3 (ipykernel)",
   "language": "python",
   "name": "python3"
  },
  "language_info": {
   "codemirror_mode": {
    "name": "ipython",
    "version": 3
   },
   "file_extension": ".py",
   "mimetype": "text/x-python",
   "name": "python",
   "nbconvert_exporter": "python",
   "pygments_lexer": "ipython3",
   "version": "3.12.7"
  }
 },
 "nbformat": 4,
 "nbformat_minor": 5
}
